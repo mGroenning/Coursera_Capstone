{
 "cells": [
  {
   "cell_type": "markdown",
   "metadata": {
    "collapsed": true
   },
   "source": [
    "## Introduction\n",
    "\n",
    "For this excersize I'd like to introduce you to my friend Jack. Jack is a talented chef, his mom is french, his dad is italian, he grew up in asia and lives in Manhatten. Jack can cook any cuisine you can think of to perfection. <b>Here is the problem:</b> Jack wants to open a restaurant/foodvenue on Manhattan, and he wants to use data to help him make the hard descition of the kind of restaurant he should open and where he should open it. Ideally would like a recommendation for each neighborhood on  Manhattan, based on the existing food places in the neighborhood."
   ]
  },
  {
   "cell_type": "markdown",
   "metadata": {},
   "source": [
    "## Dataset\n",
    "\n",
    "To complete the task I will need to isolate the Manhattan data from the New York dataset.\n",
    "- The data set must be food venues only. \n",
    "- The data set must include food category. \n",
    "- The data set must include latitude and logitude coordinates of each neighborhood. "
   ]
  }
 ],
 "metadata": {
  "kernelspec": {
   "display_name": "Python 3.6",
   "language": "python",
   "name": "python3"
  },
  "language_info": {
   "codemirror_mode": {
    "name": "ipython",
    "version": 3
   },
   "file_extension": ".py",
   "mimetype": "text/x-python",
   "name": "python",
   "nbconvert_exporter": "python",
   "pygments_lexer": "ipython3",
   "version": "3.6.8"
  }
 },
 "nbformat": 4,
 "nbformat_minor": 1
}
